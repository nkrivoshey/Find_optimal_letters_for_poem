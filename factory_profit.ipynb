{
 "cells": [
  {
   "cell_type": "markdown",
   "id": "9ec320d1",
   "metadata": {},
   "source": [
    "# ТЕСТ"
   ]
  },
  {
   "cell_type": "code",
   "execution_count": null,
   "id": "ad9a6e50",
   "metadata": {},
   "outputs": [],
   "source": [
    "# Загружаем библиотеки для работы\n",
    "import numpy as np\n",
    "import pandas as pd \n",
    "from collections import Counter"
   ]
  },
  {
   "cell_type": "code",
   "execution_count": null,
   "id": "77650a13",
   "metadata": {},
   "outputs": [],
   "source": [
    "# Выводим данное четверостишье(для удобства)\n",
    "poem = 'Во глубине сибирских руд\\nХраните гордое терпенье ,\\nНе пропадет ваш скорбный труд ,\\nИ дум высокое стремленье.'\n",
    "print(poem)\n",
    "# привожу все буквы в нижний регистр, чтобы потом легче было делать подсчет по буквам\n",
    "poem = [letter.lower() for letter in poem]"
   ]
  },
  {
   "cell_type": "code",
   "execution_count": null,
   "id": "31ca4f4f",
   "metadata": {},
   "outputs": [],
   "source": [
    "# С помощью этого подсчитаю самые встречающиеся буквы в тексте\n",
    "counter = Counter()"
   ]
  },
  {
   "cell_type": "code",
   "execution_count": null,
   "id": "c75e3569",
   "metadata": {},
   "outputs": [],
   "source": [
    "counter = Counter(poem)\n",
    "#print(counter)\n",
    "# удаляю \"ненужные\" символы, чтобы не мешало\n",
    "del counter[' ']\n",
    "del counter['.']\n",
    "del counter[',']\n",
    "del counter['\\n']\n",
    "print(counter)\n",
    "# нашел частоту букв в четверостишье"
   ]
  },
  {
   "cell_type": "markdown",
   "id": "0d6cfbaf",
   "metadata": {},
   "source": [
    "## Начинаем производство слова"
   ]
  },
  {
   "cell_type": "markdown",
   "id": "2253eb01",
   "metadata": {},
   "source": [
    "### Черный ящик фабрики"
   ]
  },
  {
   "cell_type": "code",
   "execution_count": null,
   "id": "514443df",
   "metadata": {
    "scrolled": true
   },
   "outputs": [],
   "source": [
    "# тк знаки пунктуации не учитываются, то можно их и опустить\n",
    "poem = 'Во глубине сибирских руд\\nХраните гордое терпенье \\nНе пропадет ваш скорбный труд \\nИ дум высокое стремленье '\n",
    "print(poem)"
   ]
  },
  {
   "cell_type": "code",
   "execution_count": null,
   "id": "1ce067e3",
   "metadata": {},
   "outputs": [],
   "source": [
    "# раскладываем часть стихотворения в список для дальнейшего использования\n",
    "def convert(poem):\n",
    "    poem = poem.lower()\n",
    "    poem = ([i for i in poem.split()])\n",
    "    return poem\n",
    "\n",
    "print(convert(poem))"
   ]
  },
  {
   "cell_type": "code",
   "execution_count": null,
   "id": "361b168e",
   "metadata": {
    "scrolled": true
   },
   "outputs": [],
   "source": [
    "# функция подсчитывает кол-во букв в моем слове, чтобы потом сравнивать с имеющимся\n",
    "def letterCount(word): \n",
    "    dict = {}\n",
    "    for i in word:\n",
    "        dict[i] = dict.get(i, 0) + 1\n",
    "        #print(dict)\n",
    "    return dict\n",
    "  \n",
    "  \n",
    "def possible_words(words, letters):\n",
    "    profit = 0\n",
    "    t = 0 # счетчик собранных слов\n",
    "    orders = []\n",
    "    for word in words:\n",
    "        flag = 1 # сигнализирует, что буква есть в словаре \n",
    "        lets = letterCount(word)\n",
    "        for key in lets:\n",
    "            if key not in letters:\n",
    "                flag = 0\n",
    "            else:\n",
    "                if letters.count(key) != lets[key]:\n",
    "                    flag = 1        \n",
    "        if flag == 1:\n",
    "            t = t + 1\n",
    "            profit = profit + 40 - len(letters)\n",
    "            #print(word,money,t , money/i)\n",
    "            #print(word)\n",
    "            orders.append(word)\n",
    "            \n",
    "    return orders, profit,t \n",
    "              \n",
    "if __name__ == \"__main__\":\n",
    "    lower_poem= convert(poem)\n",
    "    # Необходимые буквы для составления любого слова из нашего четверостишья\n",
    "    letters = ['в','о','и','е','т','н','у','а','р','ш','д','т','м','с','к','и']\n",
    "    #words = Counter(charSet)\n",
    "    #print(words)\n",
    "    possible_words(lower_poem, letters)\n",
    "    \n",
    "print('-------------********----------------')\n",
    "print(f'Прибыль от продажи слов с этим набором букв: {possible_words(lower_poem, letters)[1] -(len(convert(poem))-possible_words(lower_poem, letters)[2])*10} ед')\n",
    "print(f'Издержки хранения: {len(letters)} ед')\n",
    "print(f'Количество слов, которые мы точно соберем, если поступит заказ по ним: {possible_words(lower_poem, letters)[2]} шт')\n",
    "print(f'Эти слова: {possible_words(lower_poem, letters)[0]}')\n",
    "print(f'Средняя прибыль фирмы по всему четверостишью: {possible_words(lower_poem, letters)[1]/possible_words(lower_poem, letters)[2]} ед')\n",
    "print('-------------********----------------')    "
   ]
  },
  {
   "cell_type": "markdown",
   "id": "c82b7f46",
   "metadata": {},
   "source": [
    "##### Однако мы не проверили случай, когда у нас не хватает одной буквы. Мы же ее можем заказать!"
   ]
  },
  {
   "cell_type": "markdown",
   "id": "6a74b797",
   "metadata": {},
   "source": [
    "##### Поскольку мы точно знаем, что некоторые слова уже собираются, то будем пробовать смотреть оставшиееся слова"
   ]
  },
  {
   "cell_type": "code",
   "execution_count": null,
   "id": "f21699a8",
   "metadata": {},
   "outputs": [],
   "source": [
    "fg = possible_words(lower_poem, letters)[0]\n",
    "income = possible_words(lower_poem, letters)[1]\n",
    "aa = letters.copy()\n",
    "print(fg)\n",
    "print(income)"
   ]
  },
  {
   "cell_type": "code",
   "execution_count": null,
   "id": "8289d56f",
   "metadata": {},
   "outputs": [],
   "source": [
    "for i in convert(poem):\n",
    "        if i not in fg:\n",
    "            print(i)        "
   ]
  },
  {
   "cell_type": "code",
   "execution_count": null,
   "id": "f63535eb",
   "metadata": {},
   "outputs": [],
   "source": [
    "# возьмем слова, которых нет в списке\n",
    "wrd = ['сибирских','терпенье','скорбный','стремленье']\n",
    "wrd"
   ]
  },
  {
   "cell_type": "code",
   "execution_count": null,
   "id": "a52db048",
   "metadata": {},
   "outputs": [],
   "source": [
    "# тут меняем индекс слова в списке\n",
    "# Заказанное слово\n",
    "b = wrd[3]\n",
    "# Проводим все необходимые манипуляции со словом и набором букв на фабрике\n",
    "list_a = letters\n",
    "list_b = list(b)\n",
    "list_b = [letter.lower() for letter in b]\n",
    "# разложенное слово в листе для визуала\n",
    "print(list_b)"
   ]
  },
  {
   "cell_type": "code",
   "execution_count": null,
   "id": "ccb88130",
   "metadata": {},
   "outputs": [],
   "source": [
    "def remove_common1(a, b):\n",
    "    income = possible_words(lower_poem, letters)[1]\n",
    "    \n",
    "    t = 0\n",
    "    for i in a[:]:\n",
    "        if i in b:\n",
    "            a.remove(i)\n",
    "            b.remove(i)\n",
    "    print(f'Неиспользованные буквы: {a}')\n",
    "    print(f'Непроизведенная буква: {b}')\n",
    "    print('------------------------------')\n",
    "   # return(b) #remove_common1(list_a,list_b)\n",
    "    if b != []:\n",
    "        if len(b) == 1:\n",
    "            income = income + 40 - 2 + 10 # +10 тк это слова я учел в функц выше и зачел его как несобранное\n",
    "            print('1 letter')\n",
    "            print(income)\n",
    "            print('------------------------------')\n",
    "        if len(b) != 1:\n",
    "            t = t - 10  # это отдельная переменная, тк несобранные словы уже учтены в income, поэтому\n",
    "            print('Не хватает букв, чтобы произвести, поэтому платим 10 ед') # для отдельных расчетов его берем\n",
    "            #print(t)\n",
    "            print('По этому слову несем убытки')\n",
    "             # все убытки уже были учтены в функции определния словаря и слов, поэтому закидывать в money не надо\n",
    "    return(t)\n",
    "        \n",
    "remove_common1(aa,list_b)"
   ]
  },
  {
   "cell_type": "markdown",
   "id": "2a645150",
   "metadata": {},
   "source": [
    "### Тут убеждаемся в том, что не появляются допольнительные слова => наш набор, который мы взяли является оптимальным для нас"
   ]
  },
  {
   "cell_type": "markdown",
   "id": "b9e43106",
   "metadata": {},
   "source": [
    "### После всех манипуляций мы получаем оптимальный словарь для фабрики"
   ]
  },
  {
   "cell_type": "code",
   "execution_count": null,
   "id": "65b04a3c",
   "metadata": {},
   "outputs": [],
   "source": [
    "print(letters)"
   ]
  },
  {
   "cell_type": "markdown",
   "id": "ae33d433",
   "metadata": {},
   "source": [
    "# Conclusion"
   ]
  },
  {
   "cell_type": "markdown",
   "id": "0a06f9d6",
   "metadata": {},
   "source": [
    "####  Здесь я хочу объяснить мою идею решения этой задачи,поскольку,возможно,она может отличаться от истинной.\n",
    "#### В моем понимании максимизация прибыли применительно к данной задаче - это тот \"оптимальный\" словарь фабрики ,который минимизирует затраты на храния и максимизирует прибыль фирмы.Для фабрики необязательно и       невыгодно производить все слова, имея в их арсенале все буквы для каждого слова, поскольку издержки хранения будут большими и средняя прибыль фирмы будет уменьшаться.Тк мы считаем, что прибыль фирмы распределена нормально, то откидывать отрицательную прибыль, рассматривая только положительные исходы выпуска слова, весьма некорректно.\n",
    "#### Тест был довольно интересным, поскольку много работы было с буквенными выражениями.\n",
    "#### Спасибо."
   ]
  }
 ],
 "metadata": {
  "kernelspec": {
   "display_name": "Python 3 (ipykernel)",
   "language": "python",
   "name": "python3"
  },
  "language_info": {
   "codemirror_mode": {
    "name": "ipython",
    "version": 3
   },
   "file_extension": ".py",
   "mimetype": "text/x-python",
   "name": "python",
   "nbconvert_exporter": "python",
   "pygments_lexer": "ipython3",
   "version": "3.9.7"
  }
 },
 "nbformat": 4,
 "nbformat_minor": 5
}
